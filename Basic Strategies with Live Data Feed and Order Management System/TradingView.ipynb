{
 "cells": [
  {
   "cell_type": "code",
   "execution_count": 1,
   "metadata": {},
   "outputs": [],
   "source": [
    "import os\n",
    "import time\n",
    "import selenium\n",
    "import requests\n",
    "import datetime\n",
    "import threading\n",
    "import numpy as np\n",
    "import pandas as pd\n",
    "from bs4 import BeautifulSoup\n",
    "from selenium import webdriver\n",
    "from selenium import webdriver\n",
    "from selenium.webdriver.chrome.options import Options\n",
    "from IPython.display import clear_output, display"
   ]
  },
  {
   "cell_type": "code",
   "execution_count": null,
   "metadata": {},
   "outputs": [],
   "source": [
    "class TradingView():\n",
    "\n",
    "    username = pd.read_csv('trading_view_credentials.csv').iloc[0]['username']\n",
    "    password = pd.read_csv('trading_view_credentials.csv').iloc[0]['password']\n",
    "    \n",
    "    def __init__(self):\n",
    "        \n",
    "        self.start_webdriver()\n",
    "        self.get_watchlist()\n",
    "\n",
    "    def start_webdriver(self):\n",
    "\n",
    "        while True:\n",
    "            \n",
    "            try:\n",
    "        \n",
    "                self.driver = webdriver.Chrome('/Users/rshah181/Desktop/AMADEUS/chromedriver')\n",
    "                self.driver.get('https://in.tradingview.com/')\n",
    "                \n",
    "                time.sleep(15)\n",
    "                \n",
    "                signin_button = self.driver.find_element_by_link_text('Sign in')\n",
    "                signin_button.click()\n",
    "                \n",
    "                time.sleep(15)\n",
    "                \n",
    "                emailorusername_button = self.driver.find_element_by_xpath(\n",
    "                    '//*[@id=\"overlap-manager-root\"]/div/div[2]/div/div/div/div/div/div[1]/div[5]/div/div[1]/div/span/span'\n",
    "                )\n",
    "                \n",
    "                emailorusername_button.click()\n",
    "                \n",
    "                time.sleep(5)\n",
    "                \n",
    "                username_input = self.driver.find_element_by_xpath(\n",
    "                    '//*[@id=\"signin-form\"]/div[1]/div[1]/input')\n",
    "\n",
    "                username_input.send_keys(self.username)\n",
    "                \n",
    "                time.sleep(5)\n",
    "                \n",
    "                password_input = self.driver.find_element_by_xpath(\n",
    "                    '//*[@id=\"signin-form\"]/div[2]/div/div[1]/input')\n",
    "                \n",
    "                password_input.send_keys(self.password)\n",
    "                \n",
    "                time.sleep(5)\n",
    "                \n",
    "                login_button = self.driver.find_element_by_xpath(\n",
    "                    '//*[@id=\"signin-form\"]/div[3]/div[2]/button/span[2]')\n",
    "\n",
    "                login_button.click()\n",
    "                \n",
    "                break\n",
    "                \n",
    "            except:\n",
    "                \n",
    "                continue\n",
    "\n",
    "                \n",
    "    def get_watchlist(self):\n",
    "    \n",
    "        self.tickers = {}\n",
    "        self.symbols = []\n",
    "        \n",
    "        while True:\n",
    "            \n",
    "            index = 1\n",
    "        \n",
    "            while True:\n",
    "                \n",
    "                index += 1\n",
    "                \n",
    "                try:\n",
    "                    \n",
    "                    self.symbols.append(self.driver.find_element_by_xpath(\n",
    "                        f'/html/body/div[1]/div/div[1]/div[1]/div[1]/div[1]/div[2]/div/div[2]/div/div[2]/div/div[{index}]/div/div/div[2]/span/span[1]'))\n",
    "\n",
    "                    self.tickers[self.driver.find_element_by_xpath(\n",
    "                        f'/html/body/div[1]/div/div[1]/div[1]/div[1]/div[1]/div[2]/div/div[2]/div/div[2]/div/div[{index}]/div/div/div[2]/span/span[1]'\n",
    "                    )] = self.driver.find_element_by_xpath(\n",
    "                        f'/html/body/div[1]/div/div[1]/div[1]/div[1]/div[1]/div[2]/div/div[2]/div/div[2]/div/div[{index}]/div/div/span[1]/span'\n",
    "                    )\n",
    "                    \n",
    "                except:\n",
    "                    \n",
    "                    break\n",
    "                \n",
    "            if len(self.tickers) > 0:\n",
    "                \n",
    "                break\n",
    "                \n",
    "    def get_ltp(self):\n",
    "                \n",
    "        self.symbol_universe = [s.text for s in self.symbols]\n",
    "                    \n",
    "        self.live_data = pd.DataFrame(columns=['symbol', 'ltp'])\n",
    "\n",
    "        while True:\n",
    "\n",
    "            for i, symbol in enumerate(self.tickers):\n",
    "\n",
    "                self.live_data.loc[i] = [symbol.text, self.tickers[symbol].text]"
   ]
  },
  {
   "cell_type": "code",
   "execution_count": null,
   "metadata": {},
   "outputs": [],
   "source": [
    "tv = TradingView()"
   ]
  },
  {
   "cell_type": "code",
   "execution_count": null,
   "metadata": {},
   "outputs": [],
   "source": [
    "t1 = threading.Thread(target=tv.get_ltp)\n",
    "t1.start()"
   ]
  },
  {
   "cell_type": "code",
   "execution_count": null,
   "metadata": {
    "scrolled": false
   },
   "outputs": [],
   "source": [
    "tv.get_watchlist()"
   ]
  },
  {
   "cell_type": "code",
   "execution_count": null,
   "metadata": {
    "scrolled": false
   },
   "outputs": [],
   "source": [
    "tv.live_data"
   ]
  },
  {
   "cell_type": "code",
   "execution_count": null,
   "metadata": {
    "scrolled": true
   },
   "outputs": [],
   "source": [
    "tv.symbol_universe"
   ]
  },
  {
   "cell_type": "markdown",
   "metadata": {},
   "source": [
    "***"
   ]
  },
  {
   "cell_type": "markdown",
   "metadata": {},
   "source": [
    "### Step-by-step Code :"
   ]
  },
  {
   "cell_type": "code",
   "execution_count": 2,
   "metadata": {},
   "outputs": [],
   "source": [
    "username = 'riddhishah1008@gmail.com'\n",
    "password = 'Danny108'"
   ]
  },
  {
   "cell_type": "code",
   "execution_count": 10,
   "metadata": {
    "scrolled": false
   },
   "outputs": [],
   "source": [
    "driver = webdriver.Chrome('/Users/rshah181/Desktop/AMADEUS/chromedriver')\n",
    "# driver = webdriver.Safari()"
   ]
  },
  {
   "cell_type": "code",
   "execution_count": 11,
   "metadata": {},
   "outputs": [],
   "source": [
    "driver.get('https://in.tradingview.com/')"
   ]
  },
  {
   "cell_type": "code",
   "execution_count": 12,
   "metadata": {},
   "outputs": [],
   "source": [
    "signin_button = driver.find_element_by_link_text('Sign in')"
   ]
  },
  {
   "cell_type": "code",
   "execution_count": 13,
   "metadata": {},
   "outputs": [],
   "source": [
    "signin_button.click()"
   ]
  },
  {
   "cell_type": "code",
   "execution_count": null,
   "metadata": {},
   "outputs": [],
   "source": [
    "time.sleep(5)"
   ]
  },
  {
   "cell_type": "code",
   "execution_count": 14,
   "metadata": {
    "scrolled": true
   },
   "outputs": [],
   "source": [
    "emailorusername_button = driver.find_element_by_xpath(\n",
    "    '//*[@id=\"overlap-manager-root\"]/div/div[2]/div/div/div/div/div/div/div[1]/div[4]/div/span'\n",
    ")"
   ]
  },
  {
   "cell_type": "code",
   "execution_count": 15,
   "metadata": {},
   "outputs": [],
   "source": [
    "emailorusername_button.click()"
   ]
  },
  {
   "cell_type": "code",
   "execution_count": 18,
   "metadata": {},
   "outputs": [],
   "source": [
    "username_input = driver.find_element_by_xpath(\n",
    "    '//*[@id=\"email-signin__user-name-input__aceaca0c-63c2-4ed1-8093-d13215fdc9e9\"]')"
   ]
  },
  {
   "cell_type": "code",
   "execution_count": 19,
   "metadata": {},
   "outputs": [],
   "source": [
    "username_input.send_keys(username)"
   ]
  },
  {
   "cell_type": "code",
   "execution_count": 20,
   "metadata": {},
   "outputs": [],
   "source": [
    "password_input = driver.find_element_by_xpath(\n",
    "    '//*[@id=\"email-signin__password-input__aceaca0c-63c2-4ed1-8093-d13215fdc9e9\"]')"
   ]
  },
  {
   "cell_type": "code",
   "execution_count": 21,
   "metadata": {},
   "outputs": [],
   "source": [
    "password_input.send_keys(password)"
   ]
  },
  {
   "cell_type": "code",
   "execution_count": 22,
   "metadata": {},
   "outputs": [],
   "source": [
    "login_button = driver.find_element_by_xpath(\n",
    "    '//*[@id=\"email-signin__submit-button__aceaca0c-63c2-4ed1-8093-d13215fdc9e9\"]/span[2]')"
   ]
  },
  {
   "cell_type": "code",
   "execution_count": 23,
   "metadata": {},
   "outputs": [],
   "source": [
    "login_button.click()"
   ]
  },
  {
   "cell_type": "code",
   "execution_count": null,
   "metadata": {},
   "outputs": [],
   "source": [
    "time.sleep(20)"
   ]
  },
  {
   "cell_type": "code",
   "execution_count": null,
   "metadata": {},
   "outputs": [],
   "source": [
    "ticker_name = []\n",
    "ticker_ltp = []\n",
    "tickers = {}\n",
    "index = 1\n",
    "\n",
    "while True:\n",
    "    index += 1\n",
    "    try:\n",
    "        tickers[driver.find_element_by_xpath(f'/html/body/div[1]/div/div[1]/div[1]/div[1]/div[1]/div[2]/div/div[2]/div/div[2]/div/div[{index}]/div/div/div[2]/span/span[1]')] = driver.find_element_by_xpath(f'/html/body/div[1]/div/div[1]/div[1]/div[1]/div[1]/div[2]/div/div[2]/div/div[2]/div/div[{index}]/div/div/span[1]/span')\n",
    "    except:\n",
    "        break"
   ]
  },
  {
   "cell_type": "code",
   "execution_count": null,
   "metadata": {},
   "outputs": [],
   "source": [
    "df = pd.DataFrame(columns = ['symbol', 'ltp'])\n",
    "\n",
    "while True:\n",
    "    \n",
    "    for i, symbol in enumerate(tickers):\n",
    "        \n",
    "        df.loc[i] = [symbol.text, tickers[symbol].text]\n",
    "        \n",
    "    display(df)\n",
    "    clear_output(wait=True)"
   ]
  },
  {
   "cell_type": "markdown",
   "metadata": {},
   "source": [
    "***"
   ]
  },
  {
   "cell_type": "markdown",
   "metadata": {
    "heading_collapsed": true
   },
   "source": [
    "### Appendix"
   ]
  },
  {
   "cell_type": "code",
   "execution_count": null,
   "metadata": {
    "hidden": true
   },
   "outputs": [],
   "source": [
    "'''\n",
    "pd.DataFrame({'username' : ['riddhishah1008@gmail.com'],\n",
    "              'password' : ['Danny108']\n",
    "             }).to_csv('trading_view_credentials.csv', index=False)\n",
    "'''"
   ]
  },
  {
   "cell_type": "code",
   "execution_count": null,
   "metadata": {
    "hidden": true,
    "scrolled": false
   },
   "outputs": [],
   "source": [
    "'''\n",
    "ticker_name = []\n",
    "ticker_ltp = []\n",
    "tickers = {}\n",
    "index = 1\n",
    "\n",
    "while True:\n",
    "    index += 1\n",
    "    try:\n",
    "        ticker_name.append(driver.find_element_by_xpath(f'/html/body/div[1]/div/div[1]/div[1]/div[1]/div[1]/div[2]/div/div[2]/div/div[2]/div/div[{index}]/div/div/div[2]/span/span[1]'))\n",
    "        ticker_ltp.append(driver.find_element_by_xpath(f'/html/body/div[1]/div/div[1]/div[1]/div[1]/div[1]/div[2]/div/div[2]/div/div[2]/div/div[{index}]/div/div/span[1]/span'))\n",
    "        tickers[driver.find_element_by_xpath(f'/html/body/div[1]/div/div[1]/div[1]/div[1]/div[1]/div[2]/div/div[2]/div/div[2]/div/div[{index}]/div/div/div[2]/span/span[1]')] = driver.find_element_by_xpath(f'/html/body/div[1]/div/div[1]/div[1]/div[1]/div[1]/div[2]/div/div[2]/div/div[2]/div/div[{index}]/div/div/span[1]/span')\n",
    "    except:\n",
    "        break\n",
    "         \n",
    "df = pd.DataFrame(columns = ['symbol', 'ltp'])\n",
    "\n",
    "while True:\n",
    "    for i, ticker in enumerate(zip(ticker_name, ticker_ltp)):\n",
    "        df.loc[i] = [ticker[0].text, ticker[1].text]\n",
    "        \n",
    "    display(df)\n",
    "    clear_output(wait=True)\n",
    "'''"
   ]
  },
  {
   "cell_type": "code",
   "execution_count": null,
   "metadata": {
    "hidden": true
   },
   "outputs": [],
   "source": [
    "'''\n",
    "class TradingView():\n",
    "\n",
    "    username = trading_view_credentials.trading_view_username\n",
    "    password = trading_view_credentials.trading_view_password\n",
    "\n",
    "    def acquire_tickers(self):\n",
    "\n",
    "        print(1)\n",
    "\n",
    "        while True:\n",
    "            \n",
    "            try:\n",
    "                \n",
    "                self.driver = webdriver.Chrome('/Users/rshah181/Desktop/AMADEUS/chromedriver')\n",
    "                self.driver.get('https://in.tradingview.com/')\n",
    "                \n",
    "                break\n",
    "                \n",
    "            except:\n",
    "                \n",
    "                continue\n",
    "        \n",
    "        print(2)\n",
    "        \n",
    "        while True:\n",
    "            \n",
    "            try:\n",
    "                \n",
    "                self.signin_button = self.driver.find_element_by_link_text('Sign in')\n",
    "                self.signin_button.click()\n",
    "                \n",
    "                break\n",
    "                \n",
    "            except:\n",
    "                \n",
    "                continue\n",
    "        \n",
    "        print(3)\n",
    "        \n",
    "        while True:\n",
    "            \n",
    "            try:\n",
    "                \n",
    "                self.emailorusername_button = self.driver.find_element_by_xpath(\n",
    "                    '//*[@id=\"overlap-manager-root\"]/div/div[2]/div/div/div/div/div/div[1]/div[5]/div/div[1]/div/span/span'\n",
    "                )\n",
    "                \n",
    "                self.emailorusername_button.click()\n",
    "                \n",
    "                break\n",
    "                \n",
    "            except:\n",
    "                \n",
    "                continue\n",
    "        \n",
    "        print(4)\n",
    "        \n",
    "        while True:\n",
    "            \n",
    "            try:\n",
    "                \n",
    "                self.username_input = self.driver.find_element_by_xpath(\n",
    "                    '//*[@id=\"signin-form\"]/div[1]/div[1]/input')\n",
    "\n",
    "                self.username_input.send_keys(self.username)\n",
    "                \n",
    "                break\n",
    "                \n",
    "            except:\n",
    "                \n",
    "                continue\n",
    "        \n",
    "        print(5)\n",
    "        \n",
    "        while True:\n",
    "            \n",
    "            try:\n",
    "                \n",
    "                self.password_input = self.driver.find_element_by_xpath(\n",
    "                    '//*[@id=\"signin-form\"]/div[2]/div/div[1]/input')\n",
    "                \n",
    "                self.password_input.send_keys(self.password)\n",
    "                \n",
    "                break\n",
    "                \n",
    "            except:\n",
    "                \n",
    "                continue\n",
    "        \n",
    "        print(6)\n",
    "        \n",
    "        while True:\n",
    "            \n",
    "            try:\n",
    "                \n",
    "                self.login_button = self.driver.find_element_by_xpath(\n",
    "                    '//*[@id=\"signin-form\"]/div[3]/div[2]/button/span[2]')\n",
    "\n",
    "                self.login_button.click()\n",
    "                \n",
    "                break\n",
    "                \n",
    "            except:\n",
    "                \n",
    "                continue\n",
    "        \n",
    "        print(7)\n",
    "\n",
    "        self.ticker_name = []\n",
    "        self.ticker_ltp = []\n",
    "        self.tickers = {}\n",
    "        index = 1\n",
    "\n",
    "        print(8)\n",
    "        \n",
    "        while True:\n",
    "        \n",
    "            while True:\n",
    "                \n",
    "                index += 1\n",
    "                \n",
    "                try:\n",
    "                    self.ticker_name.append(\n",
    "                        self.driver.find_element_by_xpath(\n",
    "                            f'/html/body/div[1]/div/div[1]/div[1]/div[1]/div[1]/div[2]/div/div[2]/div/div[2]/div/div[{index}]/div/div/div[2]/span/span[1]'\n",
    "                        ))\n",
    "                    self.ticker_ltp.append(\n",
    "                        self.driver.find_element_by_xpath(\n",
    "                            f'/html/body/div[1]/div/div[1]/div[1]/div[1]/div[1]/div[2]/div/div[2]/div/div[2]/div/div[{index}]/div/div/span[1]/span'\n",
    "                        ))\n",
    "                    self.tickers[self.driver.find_element_by_xpath(\n",
    "                        f'/html/body/div[1]/div/div[1]/div[1]/div[1]/div[1]/div[2]/div/div[2]/div/div[2]/div/div[{index}]/div/div/div[2]/span/span[1]'\n",
    "                    )] = driver.find_element_by_xpath(\n",
    "                        f'/html/body/div[1]/div/div[1]/div[1]/div[1]/div[1]/div[2]/div/div[2]/div/div[2]/div/div[{index}]/div/div/span[1]/span'\n",
    "                    )\n",
    "                    \n",
    "                except:\n",
    "                    \n",
    "                    break\n",
    "                \n",
    "            if len(self.tickers) > 0:\n",
    "                \n",
    "                break\n",
    "                \n",
    "        print(9)\n",
    "                    \n",
    "        self.df = pd.DataFrame(columns=['symbol', 'ltp'])\n",
    "\n",
    "        while True:\n",
    "\n",
    "            for i, symbol in enumerate(self.tickers):\n",
    "\n",
    "                self.df.loc[i] = [symbol.text, tickers[symbol].text]\n",
    "'''"
   ]
  },
  {
   "cell_type": "code",
   "execution_count": null,
   "metadata": {
    "hidden": true
   },
   "outputs": [],
   "source": [
    "'''\n",
    "class TradingView():\n",
    "\n",
    "    username = trading_view_credentials.trading_view_username\n",
    "    password = trading_view_credentials.trading_view_password\n",
    "\n",
    "    def acquire_tickers(self):\n",
    "\n",
    "        print(1)\n",
    "\n",
    "        while True:\n",
    "            \n",
    "            try:\n",
    "                \n",
    "                self.driver = webdriver.Chrome('/Users/rshah181/Desktop/AMADEUS/chromedriver')\n",
    "                self.driver.get('https://in.tradingview.com/')\n",
    "                \n",
    "                time.sleep(15)\n",
    "                \n",
    "                self.signin_button = self.driver.find_element_by_link_text('Sign in')\n",
    "                self.signin_button.click()\n",
    "                \n",
    "                time.sleep(15)\n",
    "                \n",
    "                self.emailorusername_button = self.driver.find_element_by_xpath(\n",
    "                    '//*[@id=\"overlap-manager-root\"]/div/div[2]/div/div/div/div/div/div[1]/div[5]/div/div[1]/div/span/span'\n",
    "                )\n",
    "                \n",
    "                self.emailorusername_button.click()\n",
    "                \n",
    "                time.sleep(5)\n",
    "                \n",
    "                self.username_input = self.driver.find_element_by_xpath(\n",
    "                    '//*[@id=\"signin-form\"]/div[1]/div[1]/input')\n",
    "\n",
    "                self.username_input.send_keys(self.username)\n",
    "                \n",
    "                time.sleep(5)\n",
    "                \n",
    "                self.password_input = self.driver.find_element_by_xpath(\n",
    "                    '//*[@id=\"signin-form\"]/div[2]/div/div[1]/input')\n",
    "                \n",
    "                self.password_input.send_keys(self.password)\n",
    "                \n",
    "                time.sleep(5)\n",
    "                \n",
    "                self.login_button = self.driver.find_element_by_xpath(\n",
    "                    '//*[@id=\"signin-form\"]/div[3]/div[2]/button/span[2]')\n",
    "\n",
    "                self.login_button.click()\n",
    "                \n",
    "                break\n",
    "                \n",
    "            except:\n",
    "                \n",
    "                continue\n",
    "\n",
    "        self.ticker_name = []\n",
    "        self.ticker_ltp = []\n",
    "        self.tickers = {}\n",
    "\n",
    "        print(2)\n",
    "        \n",
    "        while True:\n",
    "            \n",
    "            index = 1\n",
    "        \n",
    "            while True:\n",
    "                \n",
    "                index += 1\n",
    "                \n",
    "                try:\n",
    "                    self.ticker_name.append(\n",
    "                        self.driver.find_element_by_xpath(\n",
    "                            f'/html/body/div[1]/div/div[1]/div[1]/div[1]/div[1]/div[2]/div/div[2]/div/div[2]/div/div[{index}]/div/div/div[2]/span/span[1]'\n",
    "                        ))\n",
    "                    self.ticker_ltp.append(\n",
    "                        self.driver.find_element_by_xpath(\n",
    "                            f'/html/body/div[1]/div/div[1]/div[1]/div[1]/div[1]/div[2]/div/div[2]/div/div[2]/div/div[{index}]/div/div/span[1]/span'\n",
    "                        ))\n",
    "                    self.tickers[self.driver.find_element_by_xpath(\n",
    "                        f'/html/body/div[1]/div/div[1]/div[1]/div[1]/div[1]/div[2]/div/div[2]/div/div[2]/div/div[{index}]/div/div/div[2]/span/span[1]'\n",
    "                    )] = driver.find_element_by_xpath(\n",
    "                        f'/html/body/div[1]/div/div[1]/div[1]/div[1]/div[1]/div[2]/div/div[2]/div/div[2]/div/div[{index}]/div/div/span[1]/span'\n",
    "                    )\n",
    "                    \n",
    "                except:\n",
    "                    \n",
    "                    break\n",
    "                \n",
    "            if len(self.tickers) > 0:\n",
    "                \n",
    "                break\n",
    "                \n",
    "        print(3)\n",
    "                    \n",
    "        self.df = pd.DataFrame(columns=['symbol', 'ltp'])\n",
    "\n",
    "        while True:\n",
    "\n",
    "            for i, symbol in enumerate(self.tickers):\n",
    "\n",
    "                self.df.loc[i] = [symbol.text, tickers[symbol].text]\n",
    "'''"
   ]
  },
  {
   "cell_type": "code",
   "execution_count": null,
   "metadata": {
    "hidden": true
   },
   "outputs": [],
   "source": [
    "'''\n",
    "class TradingView():\n",
    "\n",
    "    username = pd.read_csv('trading_view_credentials.csv').iloc[0]['username']\n",
    "    password = pd.read_csv('trading_view_credentials.csv').iloc[0]['password']\n",
    "\n",
    "    def acquire_tickers(self):\n",
    "\n",
    "        while True:\n",
    "            \n",
    "            try:\n",
    "                \n",
    "                driver = webdriver.Chrome('/Users/rshah181/Desktop/AMADEUS/chromedriver')\n",
    "                driver.get('https://in.tradingview.com/')\n",
    "                \n",
    "                time.sleep(15)\n",
    "                \n",
    "                signin_button = driver.find_element_by_link_text('Sign in')\n",
    "                signin_button.click()\n",
    "                \n",
    "                time.sleep(15)\n",
    "                \n",
    "                emailorusername_button = driver.find_element_by_xpath(\n",
    "                    '//*[@id=\"overlap-manager-root\"]/div/div[2]/div/div/div/div/div/div[1]/div[5]/div/div[1]/div/span/span'\n",
    "                )\n",
    "                \n",
    "                emailorusername_button.click()\n",
    "                \n",
    "                time.sleep(5)\n",
    "                \n",
    "                username_input = driver.find_element_by_xpath(\n",
    "                    '//*[@id=\"signin-form\"]/div[1]/div[1]/input')\n",
    "\n",
    "                username_input.send_keys(self.username)\n",
    "                \n",
    "                time.sleep(5)\n",
    "                \n",
    "                password_input = driver.find_element_by_xpath(\n",
    "                    '//*[@id=\"signin-form\"]/div[2]/div/div[1]/input')\n",
    "                \n",
    "                password_input.send_keys(self.password)\n",
    "                \n",
    "                time.sleep(5)\n",
    "                \n",
    "                login_button = driver.find_element_by_xpath(\n",
    "                    '//*[@id=\"signin-form\"]/div[3]/div[2]/button/span[2]')\n",
    "\n",
    "                login_button.click()\n",
    "                \n",
    "                break\n",
    "                \n",
    "            except:\n",
    "                \n",
    "                continue\n",
    "\n",
    "        self.tickers = {}\n",
    "        self.symbols = []\n",
    "        \n",
    "        while True:\n",
    "            \n",
    "            index = 1\n",
    "        \n",
    "            while True:\n",
    "                \n",
    "                index += 1\n",
    "                \n",
    "                try:\n",
    "                    \n",
    "                    self.symbols.append(driver.find_element_by_xpath(\n",
    "                        f'/html/body/div[1]/div/div[1]/div[1]/div[1]/div[1]/div[2]/div/div[2]/div/div[2]/div/div[{index}]/div/div/div[2]/span/span[1]'))\n",
    "\n",
    "                    self.tickers[driver.find_element_by_xpath(\n",
    "                        f'/html/body/div[1]/div/div[1]/div[1]/div[1]/div[1]/div[2]/div/div[2]/div/div[2]/div/div[{index}]/div/div/div[2]/span/span[1]'\n",
    "                    )] = driver.find_element_by_xpath(\n",
    "                        f'/html/body/div[1]/div/div[1]/div[1]/div[1]/div[1]/div[2]/div/div[2]/div/div[2]/div/div[{index}]/div/div/span[1]/span'\n",
    "                    )\n",
    "                    \n",
    "                except:\n",
    "                    \n",
    "                    break\n",
    "                \n",
    "            if len(self.tickers) > 0:\n",
    "                \n",
    "                break\n",
    "                \n",
    "        self.symbol_universe = [s.text for s in self.symbols]\n",
    "                    \n",
    "        self.live_data = pd.DataFrame(columns=['symbol', 'ltp'])\n",
    "\n",
    "        while True:\n",
    "\n",
    "            for i, symbol in enumerate(self.tickers):\n",
    "\n",
    "                self.live_data.loc[i] = [symbol.text, self.tickers[symbol].text]\n",
    "'''"
   ]
  },
  {
   "cell_type": "markdown",
   "metadata": {
    "hidden": true
   },
   "source": [
    "***"
   ]
  }
 ],
 "metadata": {
  "kernelspec": {
   "display_name": "Python 3",
   "language": "python",
   "name": "python3"
  },
  "language_info": {
   "codemirror_mode": {
    "name": "ipython",
    "version": 3
   },
   "file_extension": ".py",
   "mimetype": "text/x-python",
   "name": "python",
   "nbconvert_exporter": "python",
   "pygments_lexer": "ipython3",
   "version": "3.7.4"
  }
 },
 "nbformat": 4,
 "nbformat_minor": 2
}
