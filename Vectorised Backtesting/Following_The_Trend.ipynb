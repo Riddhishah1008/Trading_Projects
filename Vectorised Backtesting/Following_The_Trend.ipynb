{
 "cells": [
  {
   "cell_type": "markdown",
   "metadata": {},
   "source": [
    "# Following the Trend\n",
    "\n",
    "### Core strategy rules\n",
    "\n",
    "Let’s review the rules of the strategy we now have before us. This is still a fairly simple breakout strategy\n",
    "with only a few bells and whistles added on top of it but used correctly it works very well:\n",
    "\n",
    "\n",
    "* Long entries are only allowed if the 50-day moving average is above the 100-day moving average.\n",
    "* Short entries are only allowed if the 50-day moving average is below the 100-day moving average.\n",
    "* If today’s closing price is the highest close in the past 50 days, we buy.\n",
    "* If today’s closing price is the lowest close in the past 50 days, we sell.\n",
    "* Position sizing is volatility adjusted according to the ATR-based formula previously shown, with a risk factor of 20 basis points.\n",
    "* A long position is closed when it has moved three ATR units down from its highest closing price since the position was opened.\n",
    "* A short position is closed when it has moved three ATR units up from its lowest closing price since the position was opened."
   ]
  },
  {
   "cell_type": "markdown",
   "metadata": {},
   "source": [
    "***"
   ]
  },
  {
   "cell_type": "markdown",
   "metadata": {},
   "source": [
    "## 1. Dependecies"
   ]
  },
  {
   "cell_type": "code",
   "execution_count": 1,
   "metadata": {},
   "outputs": [],
   "source": [
    "# Import Libraries\n",
    "import oandapy\n",
    "import numpy as np\n",
    "import pandas as pd\n",
    "import matplotlib.pyplot as plt\n",
    "import time\n",
    "import datetime\n",
    "from OandaFunctions import get_historical_data_date\n",
    "\n",
    "# To not print warnings\n",
    "import warnings\n",
    "warnings.filterwarnings('ignore')"
   ]
  },
  {
   "cell_type": "markdown",
   "metadata": {},
   "source": [
    "## 2. Load the Data"
   ]
  },
  {
   "cell_type": "code",
   "execution_count": 2,
   "metadata": {
    "scrolled": true
   },
   "outputs": [],
   "source": [
    "# Load past data using OANDA\n",
    "data = get_historical_data_date('IN50_USD', 'D', '2010-01-01', '2020-05-15')"
   ]
  },
  {
   "cell_type": "code",
   "execution_count": 3,
   "metadata": {},
   "outputs": [
    {
     "data": {
      "text/html": [
       "<div>\n",
       "<style scoped>\n",
       "    .dataframe tbody tr th:only-of-type {\n",
       "        vertical-align: middle;\n",
       "    }\n",
       "\n",
       "    .dataframe tbody tr th {\n",
       "        vertical-align: top;\n",
       "    }\n",
       "\n",
       "    .dataframe thead th {\n",
       "        text-align: right;\n",
       "    }\n",
       "</style>\n",
       "<table border=\"1\" class=\"dataframe\">\n",
       "  <thead>\n",
       "    <tr style=\"text-align: right;\">\n",
       "      <th></th>\n",
       "      <th>open</th>\n",
       "      <th>high</th>\n",
       "      <th>low</th>\n",
       "      <th>close</th>\n",
       "      <th>volume</th>\n",
       "      <th>date</th>\n",
       "      <th>time</th>\n",
       "      <th>weekday</th>\n",
       "    </tr>\n",
       "    <tr>\n",
       "      <th>datetime</th>\n",
       "      <th></th>\n",
       "      <th></th>\n",
       "      <th></th>\n",
       "      <th></th>\n",
       "      <th></th>\n",
       "      <th></th>\n",
       "      <th></th>\n",
       "      <th></th>\n",
       "    </tr>\n",
       "  </thead>\n",
       "  <tbody>\n",
       "    <tr>\n",
       "      <td>2011-08-26 02:30:00</td>\n",
       "      <td>4863.8</td>\n",
       "      <td>4891.2</td>\n",
       "      <td>4722.0</td>\n",
       "      <td>4751.9</td>\n",
       "      <td>13655</td>\n",
       "      <td>2011-08-26</td>\n",
       "      <td>02:30:00</td>\n",
       "      <td>4</td>\n",
       "    </tr>\n",
       "    <tr>\n",
       "      <td>2011-08-29 02:30:00</td>\n",
       "      <td>4813.4</td>\n",
       "      <td>4951.5</td>\n",
       "      <td>4813.2</td>\n",
       "      <td>4943.5</td>\n",
       "      <td>12319</td>\n",
       "      <td>2011-08-29</td>\n",
       "      <td>02:30:00</td>\n",
       "      <td>0</td>\n",
       "    </tr>\n",
       "    <tr>\n",
       "      <td>2011-08-30 02:30:00</td>\n",
       "      <td>4985.5</td>\n",
       "      <td>5024.8</td>\n",
       "      <td>4927.4</td>\n",
       "      <td>5018.7</td>\n",
       "      <td>13882</td>\n",
       "      <td>2011-08-30</td>\n",
       "      <td>02:30:00</td>\n",
       "      <td>1</td>\n",
       "    </tr>\n",
       "    <tr>\n",
       "      <td>2011-09-02 02:30:00</td>\n",
       "      <td>5048.2</td>\n",
       "      <td>5066.6</td>\n",
       "      <td>4991.9</td>\n",
       "      <td>5048.0</td>\n",
       "      <td>12280</td>\n",
       "      <td>2011-09-02</td>\n",
       "      <td>02:30:00</td>\n",
       "      <td>4</td>\n",
       "    </tr>\n",
       "    <tr>\n",
       "      <td>2011-09-05 02:30:00</td>\n",
       "      <td>4992.8</td>\n",
       "      <td>5025.8</td>\n",
       "      <td>4957.0</td>\n",
       "      <td>5016.6</td>\n",
       "      <td>12566</td>\n",
       "      <td>2011-09-05</td>\n",
       "      <td>02:30:00</td>\n",
       "      <td>0</td>\n",
       "    </tr>\n",
       "  </tbody>\n",
       "</table>\n",
       "</div>"
      ],
      "text/plain": [
       "                       open    high     low   close  volume        date  \\\n",
       "datetime                                                                  \n",
       "2011-08-26 02:30:00  4863.8  4891.2  4722.0  4751.9   13655  2011-08-26   \n",
       "2011-08-29 02:30:00  4813.4  4951.5  4813.2  4943.5   12319  2011-08-29   \n",
       "2011-08-30 02:30:00  4985.5  5024.8  4927.4  5018.7   13882  2011-08-30   \n",
       "2011-09-02 02:30:00  5048.2  5066.6  4991.9  5048.0   12280  2011-09-02   \n",
       "2011-09-05 02:30:00  4992.8  5025.8  4957.0  5016.6   12566  2011-09-05   \n",
       "\n",
       "                         time  weekday  \n",
       "datetime                                \n",
       "2011-08-26 02:30:00  02:30:00        4  \n",
       "2011-08-29 02:30:00  02:30:00        0  \n",
       "2011-08-30 02:30:00  02:30:00        1  \n",
       "2011-09-02 02:30:00  02:30:00        4  \n",
       "2011-09-05 02:30:00  02:30:00        0  "
      ]
     },
     "execution_count": 3,
     "metadata": {},
     "output_type": "execute_result"
    }
   ],
   "source": [
    "# Print first 5 rows\n",
    "data.head()"
   ]
  },
  {
   "cell_type": "markdown",
   "metadata": {},
   "source": [
    "## 3. Coding the Strategy"
   ]
  },
  {
   "cell_type": "code",
   "execution_count": 4,
   "metadata": {},
   "outputs": [],
   "source": [
    "# Moving average on 50 days period\n",
    "data['ma_50'] = data['close'].rolling(50).mean()\n",
    "\n",
    "# Moving average on 100 days period\n",
    "data['ma_100'] = data['close'].rolling(100).mean()"
   ]
  },
  {
   "cell_type": "code",
   "execution_count": 5,
   "metadata": {},
   "outputs": [],
   "source": [
    "# Long entries are only allowed if the 50-day moving average is above the 100-day moving average\n",
    "data['le'] = data['ma_50'] > data['ma_100']\n",
    "\n",
    "# Short entries are only allowed if the 50-day moving average is below the 100-day moving average\n",
    "data['se'] = data['ma_50'] < data['ma_100']"
   ]
  },
  {
   "cell_type": "code",
   "execution_count": 6,
   "metadata": {},
   "outputs": [],
   "source": [
    "# If today’s closing price is the highest close in the past 50 days, we buy\n",
    "data['buy'] = data.shift()['close'] >= data['close'].shift().rolling(50).max()\n",
    "\n",
    "# If today’s closing price is the lowest close in the past 50 days, we sell\n",
    "data['sell'] = data.shift()['close'] <= data['close'].shift().rolling(50).min()"
   ]
  },
  {
   "cell_type": "code",
   "execution_count": 7,
   "metadata": {},
   "outputs": [],
   "source": [
    "# Go short if both conditions are true\n",
    "data['short_entry'] = (data['se'] & data['sell']).apply(int)\n",
    "\n",
    "# Go long if both conditions are true\n",
    "data['long_entry'] = (data['le'] & data['buy']).apply(int)"
   ]
  },
  {
   "cell_type": "code",
   "execution_count": 8,
   "metadata": {},
   "outputs": [],
   "source": [
    "# Store previous day's close\n",
    "data['prev_close'] = data['close'].shift()\n",
    "\n",
    "# True Range = Max(Today's High, Previous Close) - Min(Today's Low, Previous Close)\n",
    "data['tr'] = data[['high','prev_close']].max(axis=1) - data[['low','prev_close']].min(axis=1)\n",
    "\n",
    "# Average True Range - Exponential Moving Average of True Range\n",
    "data['atr'] = data['tr'].ewm(span=100).mean()"
   ]
  },
  {
   "cell_type": "code",
   "execution_count": 9,
   "metadata": {},
   "outputs": [],
   "source": [
    "# Drop rows with NaN values and columns which aren't needed anymore\n",
    "data.dropna(inplace=True)\n",
    "data.drop(columns= ['ma_50', 'ma_100', 'le', 'se', 'buy', 'sell', 'prev_close', 'tr'], inplace=True)"
   ]
  },
  {
   "cell_type": "code",
   "execution_count": 30,
   "metadata": {},
   "outputs": [
    {
     "data": {
      "text/html": [
       "<div>\n",
       "<style scoped>\n",
       "    .dataframe tbody tr th:only-of-type {\n",
       "        vertical-align: middle;\n",
       "    }\n",
       "\n",
       "    .dataframe tbody tr th {\n",
       "        vertical-align: top;\n",
       "    }\n",
       "\n",
       "    .dataframe thead th {\n",
       "        text-align: right;\n",
       "    }\n",
       "</style>\n",
       "<table border=\"1\" class=\"dataframe\">\n",
       "  <thead>\n",
       "    <tr style=\"text-align: right;\">\n",
       "      <th></th>\n",
       "      <th>open</th>\n",
       "      <th>high</th>\n",
       "      <th>low</th>\n",
       "      <th>close</th>\n",
       "      <th>volume</th>\n",
       "      <th>date</th>\n",
       "      <th>time</th>\n",
       "      <th>weekday</th>\n",
       "      <th>short_entry</th>\n",
       "      <th>long_entry</th>\n",
       "      <th>atr</th>\n",
       "      <th>short</th>\n",
       "      <th>long</th>\n",
       "      <th>long_entry_price</th>\n",
       "      <th>long_exit</th>\n",
       "      <th>short_entry_price</th>\n",
       "      <th>short_exit</th>\n",
       "      <th>long_vanilla_pnl</th>\n",
       "      <th>short_vanilla_pnl</th>\n",
       "      <th>pnl</th>\n",
       "    </tr>\n",
       "    <tr>\n",
       "      <th>datetime</th>\n",
       "      <th></th>\n",
       "      <th></th>\n",
       "      <th></th>\n",
       "      <th></th>\n",
       "      <th></th>\n",
       "      <th></th>\n",
       "      <th></th>\n",
       "      <th></th>\n",
       "      <th></th>\n",
       "      <th></th>\n",
       "      <th></th>\n",
       "      <th></th>\n",
       "      <th></th>\n",
       "      <th></th>\n",
       "      <th></th>\n",
       "      <th></th>\n",
       "      <th></th>\n",
       "      <th></th>\n",
       "      <th></th>\n",
       "      <th></th>\n",
       "    </tr>\n",
       "  </thead>\n",
       "  <tbody>\n",
       "    <tr>\n",
       "      <td>2012-01-25 03:30:00</td>\n",
       "      <td>5109.9</td>\n",
       "      <td>5138.1</td>\n",
       "      <td>5094.5</td>\n",
       "      <td>5117.6</td>\n",
       "      <td>9579</td>\n",
       "      <td>2012-01-25</td>\n",
       "      <td>03:30:00</td>\n",
       "      <td>2</td>\n",
       "      <td>NaN</td>\n",
       "      <td>NaN</td>\n",
       "      <td>97.266314</td>\n",
       "      <td>NaN</td>\n",
       "      <td>NaN</td>\n",
       "      <td>NaN</td>\n",
       "      <td>NaN</td>\n",
       "      <td>NaN</td>\n",
       "      <td>NaN</td>\n",
       "      <td>NaN</td>\n",
       "      <td>NaN</td>\n",
       "      <td>NaN</td>\n",
       "    </tr>\n",
       "    <tr>\n",
       "      <td>2012-01-27 03:30:00</td>\n",
       "      <td>5153.9</td>\n",
       "      <td>5168.3</td>\n",
       "      <td>5116.5</td>\n",
       "      <td>5157.2</td>\n",
       "      <td>10466</td>\n",
       "      <td>2012-01-27</td>\n",
       "      <td>03:30:00</td>\n",
       "      <td>4</td>\n",
       "      <td>NaN</td>\n",
       "      <td>NaN</td>\n",
       "      <td>96.228303</td>\n",
       "      <td>NaN</td>\n",
       "      <td>NaN</td>\n",
       "      <td>NaN</td>\n",
       "      <td>NaN</td>\n",
       "      <td>NaN</td>\n",
       "      <td>NaN</td>\n",
       "      <td>NaN</td>\n",
       "      <td>NaN</td>\n",
       "      <td>NaN</td>\n",
       "    </tr>\n",
       "    <tr>\n",
       "      <td>2012-01-30 03:30:00</td>\n",
       "      <td>5130.1</td>\n",
       "      <td>5132.3</td>\n",
       "      <td>5052.6</td>\n",
       "      <td>5056.5</td>\n",
       "      <td>10811</td>\n",
       "      <td>2012-01-30</td>\n",
       "      <td>03:30:00</td>\n",
       "      <td>0</td>\n",
       "      <td>NaN</td>\n",
       "      <td>NaN</td>\n",
       "      <td>96.418854</td>\n",
       "      <td>NaN</td>\n",
       "      <td>NaN</td>\n",
       "      <td>NaN</td>\n",
       "      <td>NaN</td>\n",
       "      <td>NaN</td>\n",
       "      <td>NaN</td>\n",
       "      <td>NaN</td>\n",
       "      <td>NaN</td>\n",
       "      <td>NaN</td>\n",
       "    </tr>\n",
       "    <tr>\n",
       "      <td>2012-01-31 03:30:00</td>\n",
       "      <td>5090.7</td>\n",
       "      <td>5186.3</td>\n",
       "      <td>5087.3</td>\n",
       "      <td>5181.9</td>\n",
       "      <td>9740</td>\n",
       "      <td>2012-01-31</td>\n",
       "      <td>03:30:00</td>\n",
       "      <td>1</td>\n",
       "      <td>NaN</td>\n",
       "      <td>NaN</td>\n",
       "      <td>97.176415</td>\n",
       "      <td>NaN</td>\n",
       "      <td>NaN</td>\n",
       "      <td>NaN</td>\n",
       "      <td>NaN</td>\n",
       "      <td>NaN</td>\n",
       "      <td>NaN</td>\n",
       "      <td>NaN</td>\n",
       "      <td>NaN</td>\n",
       "      <td>NaN</td>\n",
       "    </tr>\n",
       "    <tr>\n",
       "      <td>2012-02-01 03:30:00</td>\n",
       "      <td>5166.8</td>\n",
       "      <td>5225.5</td>\n",
       "      <td>5133.1</td>\n",
       "      <td>5223.8</td>\n",
       "      <td>10075</td>\n",
       "      <td>2012-02-01</td>\n",
       "      <td>03:30:00</td>\n",
       "      <td>2</td>\n",
       "      <td>NaN</td>\n",
       "      <td>NaN</td>\n",
       "      <td>97.068330</td>\n",
       "      <td>NaN</td>\n",
       "      <td>NaN</td>\n",
       "      <td>NaN</td>\n",
       "      <td>NaN</td>\n",
       "      <td>NaN</td>\n",
       "      <td>NaN</td>\n",
       "      <td>NaN</td>\n",
       "      <td>NaN</td>\n",
       "      <td>NaN</td>\n",
       "    </tr>\n",
       "  </tbody>\n",
       "</table>\n",
       "</div>"
      ],
      "text/plain": [
       "                       open    high     low   close  volume        date  \\\n",
       "datetime                                                                  \n",
       "2012-01-25 03:30:00  5109.9  5138.1  5094.5  5117.6    9579  2012-01-25   \n",
       "2012-01-27 03:30:00  5153.9  5168.3  5116.5  5157.2   10466  2012-01-27   \n",
       "2012-01-30 03:30:00  5130.1  5132.3  5052.6  5056.5   10811  2012-01-30   \n",
       "2012-01-31 03:30:00  5090.7  5186.3  5087.3  5181.9    9740  2012-01-31   \n",
       "2012-02-01 03:30:00  5166.8  5225.5  5133.1  5223.8   10075  2012-02-01   \n",
       "\n",
       "                         time  weekday  short_entry  long_entry        atr  \\\n",
       "datetime                                                                     \n",
       "2012-01-25 03:30:00  03:30:00        2          NaN         NaN  97.266314   \n",
       "2012-01-27 03:30:00  03:30:00        4          NaN         NaN  96.228303   \n",
       "2012-01-30 03:30:00  03:30:00        0          NaN         NaN  96.418854   \n",
       "2012-01-31 03:30:00  03:30:00        1          NaN         NaN  97.176415   \n",
       "2012-02-01 03:30:00  03:30:00        2          NaN         NaN  97.068330   \n",
       "\n",
       "                     short  long  long_entry_price  long_exit  \\\n",
       "datetime                                                        \n",
       "2012-01-25 03:30:00    NaN   NaN               NaN        NaN   \n",
       "2012-01-27 03:30:00    NaN   NaN               NaN        NaN   \n",
       "2012-01-30 03:30:00    NaN   NaN               NaN        NaN   \n",
       "2012-01-31 03:30:00    NaN   NaN               NaN        NaN   \n",
       "2012-02-01 03:30:00    NaN   NaN               NaN        NaN   \n",
       "\n",
       "                     short_entry_price  short_exit  long_vanilla_pnl  \\\n",
       "datetime                                                               \n",
       "2012-01-25 03:30:00                NaN         NaN               NaN   \n",
       "2012-01-27 03:30:00                NaN         NaN               NaN   \n",
       "2012-01-30 03:30:00                NaN         NaN               NaN   \n",
       "2012-01-31 03:30:00                NaN         NaN               NaN   \n",
       "2012-02-01 03:30:00                NaN         NaN               NaN   \n",
       "\n",
       "                     short_vanilla_pnl  pnl  \n",
       "datetime                                     \n",
       "2012-01-25 03:30:00                NaN  NaN  \n",
       "2012-01-27 03:30:00                NaN  NaN  \n",
       "2012-01-30 03:30:00                NaN  NaN  \n",
       "2012-01-31 03:30:00                NaN  NaN  \n",
       "2012-02-01 03:30:00                NaN  NaN  "
      ]
     },
     "execution_count": 30,
     "metadata": {},
     "output_type": "execute_result"
    }
   ],
   "source": [
    "# Print first 5 rows\n",
    "data.head()"
   ]
  },
  {
   "cell_type": "code",
   "execution_count": 11,
   "metadata": {
    "scrolled": false
   },
   "outputs": [],
   "source": [
    "# Storing the first elements before applying difference function which will replace them with NaN\n",
    "first_short = data['short_entry'].iloc[0]\n",
    "first_long = data['long_entry'].iloc[0]\n",
    "\n",
    "# Apply difference to keep only first occurences of trade entries\n",
    "data['short_entry'] = data['short_entry'].diff()\n",
    "data['long_entry'] = data['long_entry'].diff()\n",
    "\n",
    "# Discard -1's and replace them with 0's\n",
    "data['short_entry'] = data['short_entry'].replace(-1,0)\n",
    "data['long_entry'] = data['long_entry'].replace(-1,0)\n",
    "\n",
    "# Restore the original values of the first row\n",
    "data.ix[0, 'short_entry'] = first_short\n",
    "data.ix[0, 'long_entry'] = first_long"
   ]
  },
  {
   "cell_type": "code",
   "execution_count": 12,
   "metadata": {},
   "outputs": [],
   "source": [
    "# Create NaN columns for short and long trades\n",
    "data['short'] = np.nan\n",
    "data['long'] = np.nan\n",
    "\n",
    "# Uniquely number every trade open\n",
    "data.loc[data[data['short_entry'] == 1].index, 'short'] = list(range(len(data[data['short_entry']==True])))\n",
    "data.loc[data[data['long_entry'] == 1].index, 'long'] = list(range(len(data[data['long_entry']==True])))"
   ]
  },
  {
   "cell_type": "code",
   "execution_count": 13,
   "metadata": {},
   "outputs": [],
   "source": [
    "# Forward fill all NaN values to create open trade groups\n",
    "data['short'].ffill(inplace=True)\n",
    "data['long'].ffill(inplace=True)"
   ]
  },
  {
   "cell_type": "code",
   "execution_count": 14,
   "metadata": {
    "scrolled": true
   },
   "outputs": [],
   "source": [
    "# Replace 0's with NaNs\n",
    "data['short_entry'] = data['short_entry'].replace(0,np.nan)\n",
    "data['long_entry'] = data['long_entry'].replace(0,np.nan)"
   ]
  },
  {
   "cell_type": "code",
   "execution_count": 15,
   "metadata": {},
   "outputs": [],
   "source": [
    "# Group the data by the trade number\n",
    "grouped_short = data.groupby(['short'])\n",
    "grouped_long = data.groupby(['long'])"
   ]
  },
  {
   "cell_type": "code",
   "execution_count": 16,
   "metadata": {
    "scrolled": true
   },
   "outputs": [],
   "source": [
    "# Create NaN columns for Long entry price\n",
    "data['long_entry_price'] = np.nan\n",
    "\n",
    "# Create NaN columns for Long exit\n",
    "data['long_exit'] = np.nan\n",
    "\n",
    "# List to store long trade groups that are accounted for\n",
    "new_grp_long = []\n",
    "\n",
    "# Create new dataframe to store individual trade groups\n",
    "data_long = pd.DataFrame()\n",
    "\n",
    "# Run for loop for all grouped trades\n",
    "for grp_long, df_long in grouped_long:\n",
    "    \n",
    "    # If the trade is not already accounted for then run the code \n",
    "    if grp_long not in new_grp_long:\n",
    "        \n",
    "        # Run until exit is not found\n",
    "        while True :\n",
    "            \n",
    "            # Check if exit exists within the trade group\n",
    "            try:\n",
    "\n",
    "                # Take the data for the group in the loop\n",
    "                df_long = grouped_long.get_group(grp_long)\n",
    "                \n",
    "                # Append the group data to the newly created dataframe\n",
    "                data_long = pd.concat([data_long, df_long])\n",
    "\n",
    "                # Take the highest closing price since the trade was opened\n",
    "                data_long['highest'] = data_long['close'].rolling(len(data_long), min_periods=1).max()\n",
    "\n",
    "                # Exit when it has moved three ATR units down from its highest closing price \n",
    "                # since the position was opened \n",
    "                data_long['long_exit'] = (data_long['highest'] - (3 * data_long['atr'])) > data_long['low']\n",
    "\n",
    "                # Save the index at which we have to exit\n",
    "                exit_index = data_long[data_long['long_exit']==True].index[0]\n",
    "\n",
    "                # Break the loop as exit is found\n",
    "                break\n",
    "\n",
    "            # If it doesn't, append the next group\n",
    "            except:\n",
    "\n",
    "                # Update the group number to the next one\n",
    "                grp_long = grp_long+1\n",
    "                \n",
    "                # If the group exists...\n",
    "                if (grp_long) <= len(grouped_long):\n",
    "                    \n",
    "                    # Add the group number to the list to store all groups that have been run \n",
    "                    new_grp_long.append(grp_long)\n",
    "                \n",
    "                # If it doesn't...\n",
    "                else:\n",
    "                    \n",
    "                    # Exit on the last data point in the dataset\n",
    "                    exit_index = data_long.index[-1]\n",
    "                    \n",
    "                    # Break out of the loop\n",
    "                    break\n",
    "\n",
    "        # The entry point is the first data point where long_entry column was true\n",
    "        entry_index = data_long[data_long['long_entry']==True].index[0]\n",
    "        \n",
    "        # Update the entry in original dataframe\n",
    "        data.loc[entry_index, 'long_entry_price'] = data.loc[entry_index, 'open']\n",
    "        \n",
    "        # Update the exit in original dataframe\n",
    "        data.loc[exit_index, 'long_exit'] = data_long.loc[exit_index, 'highest'] - (3 * data_long.loc[exit_index, 'atr'])\n",
    "        \n",
    "        # Refresh and empty the temporary dataframe created\n",
    "        data_long = pd.DataFrame()\n",
    "        "
   ]
  },
  {
   "cell_type": "code",
   "execution_count": 17,
   "metadata": {
    "scrolled": true
   },
   "outputs": [],
   "source": [
    "# Create NaN columns for Short entry price\n",
    "data['short_entry_price'] = np.nan\n",
    "\n",
    "# Create NaN columns for Short exit\n",
    "data['short_exit'] = np.nan\n",
    "\n",
    "# List to store short trade groups that are accounted for\n",
    "new_grp_short = []\n",
    "\n",
    "# Create new dataframe to store individual trade groups\n",
    "data_short = pd.DataFrame()\n",
    "\n",
    "# Run for loop for all grouped trades\n",
    "for grp_short, df_short in grouped_short:\n",
    "    \n",
    "    # If the trade is not already accounted for then run the code\n",
    "    if grp_short not in new_grp_short:\n",
    "        \n",
    "        # Run until exit is not found\n",
    "        while True :\n",
    "            \n",
    "            # Check if exit exists within the trade group\n",
    "            try:\n",
    "\n",
    "                # Take the data for the group in the loop\n",
    "                df_short = grouped_short.get_group(grp_short)\n",
    "                \n",
    "                # Append the group data to the newly created dataframe\n",
    "                data_short = pd.concat([data_short, df_short])\n",
    "\n",
    "                # Take the lowest closing price since the trade was opened\n",
    "                data_short['lowest'] = data_short['close'].rolling(len(data_short), min_periods=1).min()\n",
    "\n",
    "                # Exit when it has moved three ATR units up from its lowest closing price \n",
    "                # since the position was opened\n",
    "                data_short['short_exit'] = (data_short['lowest'] + (3 * data_short['atr'])) < data_short['high']\n",
    "\n",
    "                # Break the loop as exit is found\n",
    "                exit_index = data_short[data_short['short_exit']==True].index[0]\n",
    "\n",
    "                # Break the loop as exit is found\n",
    "                break\n",
    "            \n",
    "            # If it doesn't, append the next group\n",
    "            except:\n",
    "\n",
    "                # Update the group number to the next one\n",
    "                grp_short = grp_short+1\n",
    "                \n",
    "                # If the group exists...\n",
    "                if (grp_short) <= len(grouped_short):\n",
    "                \n",
    "                    # Add the group number to the list to store all groups that have been run\n",
    "                    new_grp_short.append(grp_short)\n",
    "                 \n",
    "                # If it doesn't...\n",
    "                else:\n",
    "                    \n",
    "                    # Exit on the last data point in the dataset\n",
    "                    exit_index = data_short.index[-1]\n",
    "                    \n",
    "                    # Break out of the loop\n",
    "                    break\n",
    "         \n",
    "        # The entry point is the first data point where short column was true\n",
    "        entry_index = data_short[data_short['short_entry']==True].index[0]\n",
    "        \n",
    "        # Update the entry in original dataframe\n",
    "        data.loc[entry_index, 'short_entry_price'] = data.loc[entry_index, 'open']\n",
    "\n",
    "        # Update the exit in original dataframe\n",
    "        data.loc[exit_index, 'short_exit'] = data_short.loc[exit_index, 'lowest'] + (3 * data_short.loc[exit_index, 'atr'])\n",
    "        \n",
    "        # Refresh and empty the temporary dataframe created\n",
    "        data_short = pd.DataFrame()"
   ]
  },
  {
   "cell_type": "code",
   "execution_count": 18,
   "metadata": {},
   "outputs": [],
   "source": [
    "# Save the long open and close prices separately without NaN rows\n",
    "long_open_prices = data['long_entry_price'].dropna()\n",
    "long_close_prices = data['long_exit'].dropna()"
   ]
  },
  {
   "cell_type": "code",
   "execution_count": 19,
   "metadata": {},
   "outputs": [],
   "source": [
    "# Save the short open and close prices separately without NaN rows\n",
    "short_open_prices = data['short_entry_price'].dropna()\n",
    "short_close_prices = data['short_exit'].dropna()"
   ]
  },
  {
   "cell_type": "code",
   "execution_count": 20,
   "metadata": {},
   "outputs": [],
   "source": [
    "# Reassign the long open indices with long close indices\n",
    "long_open_prices.index = long_close_prices.index\n",
    "\n",
    "# Reassign the short open indices with short close indices\n",
    "short_open_prices.index = short_close_prices.index"
   ]
  },
  {
   "cell_type": "code",
   "execution_count": 21,
   "metadata": {},
   "outputs": [],
   "source": [
    "# Save the Long PnL in a column\n",
    "data['long_vanilla_pnl'] = long_close_prices - long_open_prices\n",
    "\n",
    "# Save the Short PnL in a column\n",
    "data['short_vanilla_pnl'] = short_open_prices - short_close_prices"
   ]
  },
  {
   "cell_type": "code",
   "execution_count": 22,
   "metadata": {},
   "outputs": [],
   "source": [
    "# Combine the buy and sell PnLs, fill NAs with 0s, sum along axis 1, replace 0s with NAs, drop NAs, round everthing to 2 decimal places\n",
    "data['pnl'] = np.round(data[['long_vanilla_pnl', 'short_vanilla_pnl']].fillna(0).sum(axis=1).replace(0, np.nan), 2)\n"
   ]
  },
  {
   "cell_type": "code",
   "execution_count": 23,
   "metadata": {},
   "outputs": [],
   "source": [
    "# Save the PnL values without NaN's\n",
    "pnl = data['pnl'].dropna()"
   ]
  },
  {
   "cell_type": "markdown",
   "metadata": {},
   "source": [
    "## 4. Checking the results"
   ]
  },
  {
   "cell_type": "code",
   "execution_count": 24,
   "metadata": {
    "scrolled": true
   },
   "outputs": [
    {
     "data": {
      "text/html": [
       "<div>\n",
       "<style scoped>\n",
       "    .dataframe tbody tr th:only-of-type {\n",
       "        vertical-align: middle;\n",
       "    }\n",
       "\n",
       "    .dataframe tbody tr th {\n",
       "        vertical-align: top;\n",
       "    }\n",
       "\n",
       "    .dataframe thead th {\n",
       "        text-align: right;\n",
       "    }\n",
       "</style>\n",
       "<table border=\"1\" class=\"dataframe\">\n",
       "  <thead>\n",
       "    <tr style=\"text-align: right;\">\n",
       "      <th></th>\n",
       "      <th>short_entry_price</th>\n",
       "      <th>short_exit</th>\n",
       "      <th>short_vanilla_pnl</th>\n",
       "      <th>long_entry_price</th>\n",
       "      <th>long_exit</th>\n",
       "      <th>long_vanilla_pnl</th>\n",
       "      <th>pnl</th>\n",
       "    </tr>\n",
       "    <tr>\n",
       "      <th>datetime</th>\n",
       "      <th></th>\n",
       "      <th></th>\n",
       "      <th></th>\n",
       "      <th></th>\n",
       "      <th></th>\n",
       "      <th></th>\n",
       "      <th></th>\n",
       "    </tr>\n",
       "  </thead>\n",
       "  <tbody>\n",
       "    <tr>\n",
       "      <td>2012-08-16 02:30:00</td>\n",
       "      <td>NaN</td>\n",
       "      <td>NaN</td>\n",
       "      <td>NaN</td>\n",
       "      <td>5367.8</td>\n",
       "      <td>NaN</td>\n",
       "      <td>NaN</td>\n",
       "      <td>NaN</td>\n",
       "    </tr>\n",
       "    <tr>\n",
       "      <td>2012-11-16 03:30:00</td>\n",
       "      <td>NaN</td>\n",
       "      <td>NaN</td>\n",
       "      <td>NaN</td>\n",
       "      <td>NaN</td>\n",
       "      <td>5580.44737</td>\n",
       "      <td>212.64737</td>\n",
       "      <td>212.65</td>\n",
       "    </tr>\n",
       "    <tr>\n",
       "      <td>2012-11-30 03:30:00</td>\n",
       "      <td>NaN</td>\n",
       "      <td>NaN</td>\n",
       "      <td>NaN</td>\n",
       "      <td>5843.9</td>\n",
       "      <td>NaN</td>\n",
       "      <td>NaN</td>\n",
       "      <td>NaN</td>\n",
       "    </tr>\n",
       "    <tr>\n",
       "      <td>2013-02-08 03:30:00</td>\n",
       "      <td>NaN</td>\n",
       "      <td>NaN</td>\n",
       "      <td>NaN</td>\n",
       "      <td>NaN</td>\n",
       "      <td>5903.46615</td>\n",
       "      <td>59.56615</td>\n",
       "      <td>59.57</td>\n",
       "    </tr>\n",
       "    <tr>\n",
       "      <td>2013-04-05 02:30:00</td>\n",
       "      <td>5563.9</td>\n",
       "      <td>NaN</td>\n",
       "      <td>NaN</td>\n",
       "      <td>NaN</td>\n",
       "      <td>NaN</td>\n",
       "      <td>NaN</td>\n",
       "      <td>NaN</td>\n",
       "    </tr>\n",
       "    <tr>\n",
       "      <td>...</td>\n",
       "      <td>...</td>\n",
       "      <td>...</td>\n",
       "      <td>...</td>\n",
       "      <td>...</td>\n",
       "      <td>...</td>\n",
       "      <td>...</td>\n",
       "      <td>...</td>\n",
       "    </tr>\n",
       "    <tr>\n",
       "      <td>2020-01-30 03:30:00</td>\n",
       "      <td>NaN</td>\n",
       "      <td>NaN</td>\n",
       "      <td>NaN</td>\n",
       "      <td>NaN</td>\n",
       "      <td>11993.38936</td>\n",
       "      <td>-370.01064</td>\n",
       "      <td>-370.01</td>\n",
       "    </tr>\n",
       "    <tr>\n",
       "      <td>2020-03-10 02:30:00</td>\n",
       "      <td>10444.6</td>\n",
       "      <td>NaN</td>\n",
       "      <td>NaN</td>\n",
       "      <td>NaN</td>\n",
       "      <td>NaN</td>\n",
       "      <td>NaN</td>\n",
       "      <td>NaN</td>\n",
       "    </tr>\n",
       "    <tr>\n",
       "      <td>2020-03-12 02:30:00</td>\n",
       "      <td>NaN</td>\n",
       "      <td>9546.039068</td>\n",
       "      <td>898.560932</td>\n",
       "      <td>NaN</td>\n",
       "      <td>NaN</td>\n",
       "      <td>NaN</td>\n",
       "      <td>898.56</td>\n",
       "    </tr>\n",
       "    <tr>\n",
       "      <td>2020-03-17 02:30:00</td>\n",
       "      <td>9130.2</td>\n",
       "      <td>NaN</td>\n",
       "      <td>NaN</td>\n",
       "      <td>NaN</td>\n",
       "      <td>NaN</td>\n",
       "      <td>NaN</td>\n",
       "      <td>NaN</td>\n",
       "    </tr>\n",
       "    <tr>\n",
       "      <td>2020-03-25 02:30:00</td>\n",
       "      <td>NaN</td>\n",
       "      <td>8427.995880</td>\n",
       "      <td>702.204120</td>\n",
       "      <td>NaN</td>\n",
       "      <td>NaN</td>\n",
       "      <td>NaN</td>\n",
       "      <td>702.20</td>\n",
       "    </tr>\n",
       "  </tbody>\n",
       "</table>\n",
       "<p>66 rows × 7 columns</p>\n",
       "</div>"
      ],
      "text/plain": [
       "                     short_entry_price   short_exit  short_vanilla_pnl  \\\n",
       "datetime                                                                 \n",
       "2012-08-16 02:30:00                NaN          NaN                NaN   \n",
       "2012-11-16 03:30:00                NaN          NaN                NaN   \n",
       "2012-11-30 03:30:00                NaN          NaN                NaN   \n",
       "2013-02-08 03:30:00                NaN          NaN                NaN   \n",
       "2013-04-05 02:30:00             5563.9          NaN                NaN   \n",
       "...                                ...          ...                ...   \n",
       "2020-01-30 03:30:00                NaN          NaN                NaN   \n",
       "2020-03-10 02:30:00            10444.6          NaN                NaN   \n",
       "2020-03-12 02:30:00                NaN  9546.039068         898.560932   \n",
       "2020-03-17 02:30:00             9130.2          NaN                NaN   \n",
       "2020-03-25 02:30:00                NaN  8427.995880         702.204120   \n",
       "\n",
       "                     long_entry_price    long_exit  long_vanilla_pnl     pnl  \n",
       "datetime                                                                      \n",
       "2012-08-16 02:30:00            5367.8          NaN               NaN     NaN  \n",
       "2012-11-16 03:30:00               NaN   5580.44737         212.64737  212.65  \n",
       "2012-11-30 03:30:00            5843.9          NaN               NaN     NaN  \n",
       "2013-02-08 03:30:00               NaN   5903.46615          59.56615   59.57  \n",
       "2013-04-05 02:30:00               NaN          NaN               NaN     NaN  \n",
       "...                               ...          ...               ...     ...  \n",
       "2020-01-30 03:30:00               NaN  11993.38936        -370.01064 -370.01  \n",
       "2020-03-10 02:30:00               NaN          NaN               NaN     NaN  \n",
       "2020-03-12 02:30:00               NaN          NaN               NaN  898.56  \n",
       "2020-03-17 02:30:00               NaN          NaN               NaN     NaN  \n",
       "2020-03-25 02:30:00               NaN          NaN               NaN  702.20  \n",
       "\n",
       "[66 rows x 7 columns]"
      ]
     },
     "execution_count": 24,
     "metadata": {},
     "output_type": "execute_result"
    }
   ],
   "source": [
    "# Print only the rows with entry, exit and PnL values\n",
    "data['short_entry_price short_exit short_vanilla_pnl long_entry_price long_exit long_vanilla_pnl pnl'.split()].dropna(how='all')\n"
   ]
  },
  {
   "cell_type": "code",
   "execution_count": 25,
   "metadata": {},
   "outputs": [
    {
     "name": "stdout",
     "output_type": "stream",
     "text": [
      "Long PnL :  1229.89\n",
      "Short PnL :  -271.07\n",
      "Total PnL :  958.81\n",
      "Win Rate % :  48.48\n",
      "Risk:Reward :  1.28\n",
      "Max Drawdown :  -641.93\n"
     ]
    }
   ],
   "source": [
    "# Print the metrics\n",
    "# Long PnL, Short PnL, Total PnL, Win Rate, Risk:Reward and Maximum Drawdown\n",
    "print('Long PnL : ', np.round(data['long_vanilla_pnl'].sum(), 2))\n",
    "print('Short PnL : ', np.round(data['short_vanilla_pnl'].sum(), 2))\n",
    "print('Total PnL : ', np.round(data['short_vanilla_pnl'].sum() + data['long_vanilla_pnl'].sum(), 2))\n",
    "print('Win Rate % : ', np.round((sum(pnl > 0)/len(pnl))*100, 2))\n",
    "print('Risk:Reward : ', np.round(abs(pnl[pnl > 0].mean()/pnl[pnl < 0].mean()), 2))\n",
    "print('Max Drawdown : ', np.round(pnl.cumsum().min(), 2))"
   ]
  },
  {
   "cell_type": "code",
   "execution_count": 26,
   "metadata": {
    "scrolled": true
   },
   "outputs": [
    {
     "data": {
      "text/plain": [
       "<matplotlib.axes._subplots.AxesSubplot at 0x11eb86a90>"
      ]
     },
     "execution_count": 26,
     "metadata": {},
     "output_type": "execute_result"
    },
    {
     "data": {
      "image/png": "[encoded data removed]",
      "text/plain": [
       "<Figure size 432x288 with 1 Axes>"
      ]
     },
     "metadata": {
      "needs_background": "light"
     },
     "output_type": "display_data"
    }
   ],
   "source": [
    "# Print the cumulative Long PnL plot\n",
    "data['long_vanilla_pnl'].dropna().cumsum().plot()"
   ]
  },
  {
   "cell_type": "code",
   "execution_count": 27,
   "metadata": {
    "scrolled": true
   },
   "outputs": [
    {
     "data": {
      "text/plain": [
       "<matplotlib.axes._subplots.AxesSubplot at 0x11eb05290>"
      ]
     },
     "execution_count": 27,
     "metadata": {},
     "output_type": "execute_result"
    },
    {
     "data": {
      "image/png": "[encoded data removed]",
      "text/plain": [
       "<Figure size 432x288 with 1 Axes>"
      ]
     },
     "metadata": {
      "needs_background": "light"
     },
     "output_type": "display_data"
    }
   ],
   "source": [
    "# Print the cumulative Short PnL plot\n",
    "data['short_vanilla_pnl'].dropna().cumsum().plot()"
   ]
  },
  {
   "cell_type": "code",
   "execution_count": 28,
   "metadata": {
    "scrolled": true
   },
   "outputs": [
    {
     "data": {
      "text/plain": [
       "<matplotlib.axes._subplots.AxesSubplot at 0x11f316f10>"
      ]
     },
     "execution_count": 28,
     "metadata": {},
     "output_type": "execute_result"
    },
    {
     "data": {
      "image/png": "[encoded data removed]",
      "text/plain": [
       "<Figure size 432x288 with 1 Axes>"
      ]
     },
     "metadata": {
      "needs_background": "light"
     },
     "output_type": "display_data"
    }
   ],
   "source": [
    "# Print the cumulative PnL plot\n",
    "pnl.cumsum().plot()"
   ]
  },
  {
   "cell_type": "markdown",
   "metadata": {},
   "source": [
    "***"
   ]
  }
 ],
 "metadata": {
  "kernelspec": {
   "display_name": "Python 3",
   "language": "python",
   "name": "python3"
  },
  "language_info": {
   "codemirror_mode": {
    "name": "ipython",
    "version": 3
   },
   "file_extension": ".py",
   "mimetype": "text/x-python",
   "name": "python",
   "nbconvert_exporter": "python",
   "pygments_lexer": "ipython3",
   "version": "3.7.4"
  }
 },
 "nbformat": 4,
 "nbformat_minor": 2
}
