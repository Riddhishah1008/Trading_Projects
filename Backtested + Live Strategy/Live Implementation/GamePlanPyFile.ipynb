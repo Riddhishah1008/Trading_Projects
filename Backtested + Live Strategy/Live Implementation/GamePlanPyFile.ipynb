{
 "cells": [
  {
   "cell_type": "code",
   "execution_count": 1,
   "metadata": {
    "init_cell": true
   },
   "outputs": [],
   "source": [
    "import os\n",
    "import time\n",
    "import json\n",
    "import math\n",
    "import talib\n",
    "import selenium\n",
    "import datetime\n",
    "import requests\n",
    "import threading\n",
    "import numpy as np\n",
    "import pandas as pd\n",
    "import telegram_bot\n",
    "from alice_blue import *\n",
    "from datetime import timedelta\n",
    "from AmadeusDataPy import AmadeusData\n",
    "from GamePlanStrategy import GamePlan\n",
    "from sleep_function import sleeper\n",
    "from collections import namedtuple\n",
    "from collections import defaultdict\n",
    "from jugaad_trader import Zerodha"
   ]
  },
  {
   "cell_type": "code",
   "execution_count": null,
   "metadata": {},
   "outputs": [],
   "source": [
    "# ins_exc = {\n",
    "#                 'AXISBANK': {'exchange' : 'NSE', 'quantity' : 2},\n",
    "#                 'BAJFINANCE': {'exchange' : 'NSE', 'quantity' : 2},\n",
    "#                 'ICICIBANK': {'exchange' : 'NSE', 'quantity' : 2},\n",
    "#                 'NIFTY AUG FUT': {'exchange' : 'NFO', 'quantity' : 2},\n",
    "#                 'BANKNIFTY AUG FUT': {'exchange' : 'NFO', 'quantity' : 2},\n",
    "#                 'RELIANCE': {'exchange' : 'NSE', 'quantity' : 2},\n",
    "#                 'UPL': {'exchange' : 'NSE', 'quantity' : 2},\n",
    "#                 'SRF': {'exchange' : 'NSE', 'quantity' : 2},\n",
    "#                 'JINDALSTEL': {'exchange' : 'NSE', 'quantity' : 2},\n",
    "#                 'RBLBANK': {'exchange' : 'NSE', 'quantity' : 2}\n",
    "#           }"
   ]
  },
  {
   "cell_type": "code",
   "execution_count": null,
   "metadata": {},
   "outputs": [],
   "source": [
    "ins_exc = {\n",
    "               'GOLDM AUG FUT': {'exchange' : 'MCX', 'quantity' : 2},\n",
    "          }"
   ]
  },
  {
   "cell_type": "code",
   "execution_count": null,
   "metadata": {},
   "outputs": [],
   "source": [
    "try:\n",
    "    amadeus_data = AmadeusData('1min', ins_exc)\n",
    "\n",
    "except Exception as e:\n",
    "    telegram_bot.send(f'Error has occured while creating Amadeus Data Client object \\n{e}')\n",
    "    print(f'Error has occured while creating Amadeus Data Client objectd \\n{e}')\n",
    "    exit()"
   ]
  },
  {
   "cell_type": "code",
   "execution_count": null,
   "metadata": {},
   "outputs": [],
   "source": [
    "try:\n",
    "    amadeus_data.get_live_data_initialise()\n",
    "\n",
    "except Exception as e:\n",
    "    telegram_bot.send(f'Error has occured while trying to get Live Data Feed \\n{e}')\n",
    "    print(f'Error has occured while trying to get Live Data Feed \\n{e}')\n",
    "    exit()"
   ]
  },
  {
   "cell_type": "code",
   "execution_count": null,
   "metadata": {},
   "outputs": [],
   "source": [
    "game_plan = {}\n",
    "    \n",
    "try:\n",
    "    for instrument in ins_exc:\n",
    "\n",
    "        game_plan[instrument] = GamePlan(instrument, ins_exc[instrument]['exchange'], amadeus_data.data[instrument], ins_exc[instrument]['quantity'])\n",
    "        game_plan[instrument].send_signals()\n",
    "\n",
    "except Exception as e:\n",
    "\n",
    "    telegram_bot.send(f'Error has occured while trying to create gameplan strategy objects \\n{e}')\n",
    "    print(f'Error has occured while trying to create gameplan strategy objects \\n{e}')\n",
    "    exit()"
   ]
  },
  {
   "cell_type": "code",
   "execution_count": null,
   "metadata": {
    "scrolled": false
   },
   "outputs": [],
   "source": [
    "game_plan['GOLDM AUG FUT'].price_levels"
   ]
  },
  {
   "cell_type": "code",
   "execution_count": null,
   "metadata": {},
   "outputs": [],
   "source": [
    "game_plan['GOLDM AUG FUT'].ltp"
   ]
  },
  {
   "cell_type": "code",
   "execution_count": null,
   "metadata": {
    "scrolled": true
   },
   "outputs": [],
   "source": [
    "game_plan['GOLDM AUG FUT'].price_flags"
   ]
  },
  {
   "cell_type": "code",
   "execution_count": null,
   "metadata": {
    "scrolled": false
   },
   "outputs": [],
   "source": [
    "amadeus_data.data['GOLDM AUG FUT']"
   ]
  },
  {
   "cell_type": "code",
   "execution_count": null,
   "metadata": {
    "scrolled": false
   },
   "outputs": [],
   "source": [
    "amadeus_data.raw_data['GOLDM AUG FUT']"
   ]
  },
  {
   "cell_type": "code",
   "execution_count": null,
   "metadata": {
    "scrolled": false
   },
   "outputs": [],
   "source": [
    "amadeus_data.message"
   ]
  },
  {
   "cell_type": "code",
   "execution_count": null,
   "metadata": {
    "scrolled": false
   },
   "outputs": [],
   "source": [
    "datetime.datetime.fromtimestamp(amadeus_data.message['exchange_time_stamp'])"
   ]
  },
  {
   "cell_type": "code",
   "execution_count": null,
   "metadata": {},
   "outputs": [],
   "source": [
    "amadeus_data.last_checked"
   ]
  },
  {
   "cell_type": "code",
   "execution_count": null,
   "metadata": {},
   "outputs": [],
   "source": [
    "amadeus_data.data_strike"
   ]
  },
  {
   "cell_type": "code",
   "execution_count": null,
   "metadata": {},
   "outputs": [],
   "source": [
    "'''if __name__ == '__main__':\n",
    "    \n",
    "    ins_exc = {\n",
    "                    'AXISBANK AUG FUT': {'exchange' : 'NFO', 'quantity' : 2},\n",
    "                    'BAJFINANCE AUG FUT': {'exchange' : 'NFO', 'quantity' : 2},\n",
    "                    'ICICIBANK AUG FUT': {'exchange' : 'NFO', 'quantity' : 2},\n",
    "                    'NIFTY AUG FUT': {'exchange' : 'NFO', 'quantity' : 2},\n",
    "                    'BANKNIFTY AUG FUT': {'exchange' : 'NFO', 'quantity' : 2}\n",
    "              }\n",
    "    \n",
    "    ins_exc = {\n",
    "                   'GOLDM AUG FUT': {'exchange' : 'MCX', 'quantity' : 2},\n",
    "             }\n",
    "\n",
    "    try:\n",
    "        amadeus_data = AmadeusData('1min', ins_exc)\n",
    "\n",
    "    except Exception as e:\n",
    "        telegram_bot.send(f'Error has occured while creating Amadeus Data Client object \\n{e}')\n",
    "        print(f'Error has occured while creating Amadeus Data Client objectd \\n{e}')\n",
    "        exit()\n",
    "    \n",
    "    sleeper(9,20)\n",
    "\n",
    "    try:\n",
    "        amadeus_data.get_live_data_initialise()\n",
    "\n",
    "    except Exception as e:\n",
    "        telegram_bot.send(f'Error has occured while trying to get Live Data Feed \\n{e}')\n",
    "        print(f'Error has occured while trying to get Live Data Feed \\n{e}')\n",
    "        exit()\n",
    "    \n",
    "    game_plan = {}\n",
    "    \n",
    "    try:\n",
    "        for instrument in ins_exc:\n",
    "\n",
    "            game_plan[instrument] = GamePlan(instrument, ins_exc[instrument]['exchange'], amadeus_data.data[instrument], ins_exc[instrument]['quantity'])\n",
    "            game_plan[instrument].send_signals()\n",
    "            \n",
    "    except Exception as e:\n",
    "        \n",
    "        telegram_bot.send(f'Error has occured while trying to create gameplan strategy objects \\n{e}')\n",
    "        print(f'Error has occured while trying to create gameplan strategy objects \\n{e}')\n",
    "        exit()'''"
   ]
  },
  {
   "cell_type": "markdown",
   "metadata": {},
   "source": [
    "***"
   ]
  }
 ],
 "metadata": {
  "kernelspec": {
   "display_name": "Python 3",
   "language": "python",
   "name": "python3"
  },
  "language_info": {
   "codemirror_mode": {
    "name": "ipython",
    "version": 3
   },
   "file_extension": ".py",
   "mimetype": "text/x-python",
   "name": "python",
   "nbconvert_exporter": "python",
   "pygments_lexer": "ipython3",
   "version": "3.7.4"
  }
 },
 "nbformat": 4,
 "nbformat_minor": 2
}
